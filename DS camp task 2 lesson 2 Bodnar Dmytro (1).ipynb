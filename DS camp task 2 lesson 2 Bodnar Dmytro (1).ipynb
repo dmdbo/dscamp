{
 "cells": [
  {
   "cell_type": "code",
   "execution_count": 1,
   "id": "e6a95ba8",
   "metadata": {},
   "outputs": [],
   "source": [
    "import numpy as np"
   ]
  },
  {
   "cell_type": "code",
   "execution_count": 2,
   "id": "52819b7e",
   "metadata": {},
   "outputs": [
    {
     "data": {
      "text/plain": [
       "array([ 2, 10, 54, 40, 21, 41, 94, 59, 92, 56, 21,  5, 98,  1, 12, 71, 73,\n",
       "       85, 17, 75])"
      ]
     },
     "execution_count": 2,
     "metadata": {},
     "output_type": "execute_result"
    }
   ],
   "source": [
    "# Генеруємо випадковий набір чисел\n",
    "a = np.random.randint(1,100,20)\n",
    "a"
   ]
  },
  {
   "cell_type": "code",
   "execution_count": 3,
   "id": "cf3ce0a0",
   "metadata": {},
   "outputs": [],
   "source": [
    "# Обчислюємо різниці між сусідніми значеннями\n",
    "differences = np.diff(a)\n"
   ]
  },
  {
   "cell_type": "code",
   "execution_count": 4,
   "id": "9a98b7e2",
   "metadata": {},
   "outputs": [],
   "source": [
    "# Знаходимо індекс максимальної різниці (впадини)\n",
    "max_difference_index = np.argmax(differences)\n"
   ]
  },
  {
   "cell_type": "code",
   "execution_count": 5,
   "id": "2106cb3f",
   "metadata": {},
   "outputs": [],
   "source": [
    "# Знаходимо значення максимальної різниці\n",
    "max_difference = differences[max_difference_index]"
   ]
  },
  {
   "cell_type": "code",
   "execution_count": 6,
   "id": "02d43495",
   "metadata": {},
   "outputs": [
    {
     "name": "stdout",
     "output_type": "stream",
     "text": [
      "Випадковий набір чисел: [ 2 10 54 40 21 41 94 59 92 56 21  5 98  1 12 71 73 85 17 75]\n",
      "Найбільший перепад висоти: 93\n"
     ]
    }
   ],
   "source": [
    "print(f\"Випадковий набір чисел: {a}\")\n",
    "print(f\"Найбільший перепад висоти: {max_difference}\")"
   ]
  },
  {
   "cell_type": "code",
   "execution_count": null,
   "id": "c8852df9",
   "metadata": {},
   "outputs": [],
   "source": []
  }
 ],
 "metadata": {
  "kernelspec": {
   "display_name": "Python 3 (ipykernel)",
   "language": "python",
   "name": "python3"
  },
  "language_info": {
   "codemirror_mode": {
    "name": "ipython",
    "version": 3
   },
   "file_extension": ".py",
   "mimetype": "text/x-python",
   "name": "python",
   "nbconvert_exporter": "python",
   "pygments_lexer": "ipython3",
   "version": "3.11.4"
  }
 },
 "nbformat": 4,
 "nbformat_minor": 5
}
